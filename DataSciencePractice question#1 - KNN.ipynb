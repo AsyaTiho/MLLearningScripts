{
 "cells": [
  {
   "cell_type": "code",
   "execution_count": 1,
   "id": "55b2dfaf",
   "metadata": {},
   "outputs": [],
   "source": [
    "import numpy as np\n",
    "import matplotlib.pyplot as plt\n",
    "%matplotlib inline"
   ]
  },
  {
   "cell_type": "code",
   "execution_count": 4,
   "id": "bc6b21f7",
   "metadata": {},
   "outputs": [],
   "source": [
    "N = 20000\n",
    "X1 = np.random.normal(0, 1, N//2) # xs for class 1\n",
    "X2 = np.random.normal(3, 1, N//2) # xs for class 2\n",
    "X = np.concatenate((X1, X2))\n",
    "Y = np.zeros(N) # class labels\n",
    "Y[N//2:] = 1\n"
   ]
  },
  {
   "cell_type": "code",
   "execution_count": 5,
   "id": "1b0ba6f0",
   "metadata": {},
   "outputs": [
    {
     "data": {
      "image/png": "[encoded data removed]",
      "text/plain": [
       "<Figure size 432x288 with 3 Axes>"
      ]
     },
     "metadata": {
      "needs_background": "light"
     },
     "output_type": "display_data"
    }
   ],
   "source": [
    "fig = plt.figure()\n",
    "ax = fig.add_subplot(221)\n",
    "ax2 = fig.add_subplot(222)\n",
    "ax3 = fig.add_subplot(212)\n",
    "_ = ax.hist(X1, alpha=0.5, bins=64)\n",
    "_ = ax2.hist(X2, alpha=0.5, bins=64)\n",
    "_ = ax3.hist(X1, alpha=0.5, bins=64)\n",
    "_ = ax3.hist(X2, alpha = 0.5, bins=64)"
   ]
  },
  {
   "cell_type": "code",
   "execution_count": 6,
   "id": "2e06b38b",
   "metadata": {},
   "outputs": [
    {
     "data": {
      "text/plain": [
       "[<matplotlib.lines.Line2D at 0x7fedc5562cd0>]"
      ]
     },
     "execution_count": 6,
     "metadata": {},
     "output_type": "execute_result"
    },
    {
     "data": {
      "image/png": "[encoded data removed]",
      "text/plain": [
       "<Figure size 432x288 with 1 Axes>"
      ]
     },
     "metadata": {
      "needs_background": "light"
     },
     "output_type": "display_data"
    }
   ],
   "source": [
    "fig = plt.figure()\n",
    "ax = fig.add_subplot(111)\n",
    "ax.plot(np.sort(X1), np.sort(X2), \".\")"
   ]
  },
  {
   "cell_type": "code",
   "execution_count": 8,
   "id": "ed5e4fce",
   "metadata": {},
   "outputs": [],
   "source": [
    "input_feature = 1.00123"
   ]
  },
  {
   "cell_type": "code",
   "execution_count": 16,
   "id": "5e7f4b5a",
   "metadata": {},
   "outputs": [
    {
     "name": "stdout",
     "output_type": "stream",
     "text": [
      "[-1.0860861   0.19125765 -1.14950386 ... -0.923552   -0.93553123\n",
      " -0.37371991]\n"
     ]
    }
   ],
   "source": [
    "print(X1)"
   ]
  },
  {
   "cell_type": "code",
   "execution_count": 17,
   "id": "63fb27c4",
   "metadata": {},
   "outputs": [
    {
     "name": "stdout",
     "output_type": "stream",
     "text": [
      "[1.76536327 2.66010342 3.0619516  ... 2.71129638 2.75499187 3.15461284]\n"
     ]
    }
   ],
   "source": [
    "print(X2)"
   ]
  },
  {
   "cell_type": "code",
   "execution_count": 19,
   "id": "ecd8f29e",
   "metadata": {},
   "outputs": [
    {
     "name": "stdout",
     "output_type": "stream",
     "text": [
      "[0. 0. 0. ... 1. 1. 1.]\n"
     ]
    }
   ],
   "source": [
    "print(Y)"
   ]
  },
  {
   "cell_type": "code",
   "execution_count": 24,
   "id": "fe50d7a5",
   "metadata": {},
   "outputs": [],
   "source": [
    "def calc_distance(x1,x2):\n",
    "    return np.abs(x1-x2)"
   ]
  },
  {
   "cell_type": "code",
   "execution_count": 37,
   "id": "619cb29b",
   "metadata": {},
   "outputs": [],
   "source": [
    "def knn(k, input_feature, X, Y):\n",
    "    ind = np.argsort(calc_distance(X,input_feature))\n",
    "    neighbors = Y[ind[0:k]]\n",
    "    return np.fix(np.mean(neighbors))\n",
    "                     "
   ]
  },
  {
   "cell_type": "code",
   "execution_count": 38,
   "id": "5aa0c449",
   "metadata": {},
   "outputs": [
    {
     "data": {
      "text/plain": [
       "0.0"
      ]
     },
     "execution_count": 38,
     "metadata": {},
     "output_type": "execute_result"
    }
   ],
   "source": [
    "knn(10,input_feature, X, Y)"
   ]
  }
 ],
 "metadata": {
  "kernelspec": {
   "display_name": "Python 3 (ipykernel)",
   "language": "python",
   "name": "python3"
  },
  "language_info": {
   "codemirror_mode": {
    "name": "ipython",
    "version": 3
   },
   "file_extension": ".py",
   "mimetype": "text/x-python",
   "name": "python",
   "nbconvert_exporter": "python",
   "pygments_lexer": "ipython3",
   "version": "3.9.7"
  }
 },
 "nbformat": 4,
 "nbformat_minor": 5
}
